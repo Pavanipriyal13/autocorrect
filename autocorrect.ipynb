{
  "nbformat": 4,
  "nbformat_minor": 0,
  "metadata": {
    "colab": {
      "provenance": [],
      "authorship_tag": "ABX9TyPTyAbBZV4lZjEd0bfobCSC",
      "include_colab_link": true
    },
    "kernelspec": {
      "name": "python3",
      "display_name": "Python 3"
    },
    "language_info": {
      "name": "python"
    }
  },
  "cells": [
    {
      "cell_type": "markdown",
      "metadata": {
        "id": "view-in-github",
        "colab_type": "text"
      },
      "source": [
        "<a href=\"https://colab.research.google.com/github/Pavanipriyal13/autocorrect/blob/main/autocorrect.ipynb\" target=\"_parent\"><img src=\"https://colab.research.google.com/assets/colab-badge.svg\" alt=\"Open In Colab\"/></a>"
      ]
    },
    {
      "cell_type": "code",
      "execution_count": null,
      "metadata": {
        "id": "Lq6V5IQOAU1v"
      },
      "outputs": [],
      "source": [
        "import re\n",
        "import string\n",
        "from collections import Counter\n"
      ]
    },
    {
      "cell_type": "code",
      "source": [
        "class SpellChecker(object):\n",
        "    def __init__(self, corpus_path):\n",
        "        with open(corpus_path, 'r') as file:\n",
        "            lines = file.readlines()\n",
        "            words = []\n",
        "            for line in lines:\n",
        "                words += re.findall(r'\\w+', line.lower())\n",
        "\n",
        "            self.vocabs = set(words)\n",
        "            self.words_count = Counter(words)\n",
        "            total_words = float(sum(self.words_count.values()))\n",
        "            self.wordProbs = {word: self.words_count[word] / total_words for word in self.vocabs}\n",
        "\n",
        "    def level_one_edits(self, word):\n",
        "        letters = string.ascii_lowercase\n",
        "        split = [(word[:i], word[i:]) for i in range(len(word) + 1)]\n",
        "        delete = [l + r[1:] for l, r in split if r]\n",
        "        swap = [l + r[1] + r[0] + r[2:] for l, r in split if len(r) > 1]\n",
        "        insert = [l + c + r for l, r in split for c in letters]\n",
        "        replace = [l + c + r[1:] for l, r in split if r for c in letters]\n",
        "\n",
        "        return set(delete + swap + replace + insert)\n",
        "\n",
        "    def level_two_edits(self, word):\n",
        "        return set(e2 for e1 in self.level_one_edits(word) for e2 in self.level_one_edits(e1))\n",
        "\n",
        "    def check(self, word):\n",
        "        if word in self.vocabs:\n",
        "            return [(word, self.wordProbs[word])]\n",
        "\n",
        "        # Generate level one candidates\n",
        "        level_one_candidates = self.level_one_edits(word)\n",
        "        print(f\"Level one candidates for '{word}': {level_one_candidates}\")\n",
        "\n",
        "        valid_candidates = [w for w in level_one_candidates if w in self.vocabs]\n",
        "        if valid_candidates:\n",
        "            print(f\"Valid level one candidates: {valid_candidates}\")\n",
        "            return sorted([(c, self.wordProbs[c]) for c in valid_candidates], key=lambda tup: tup[1], reverse=True)\n",
        "\n",
        "        # If no valid level one candidates, generate level two candidates\n",
        "        level_two_candidates = self.level_two_edits(word)\n",
        "        print(f\"Level two candidates for '{word}': {level_two_candidates}\")\n",
        "\n",
        "        valid_candidates = [w for w in level_two_candidates if w in self.vocabs]\n",
        "        if valid_candidates:\n",
        "            print(f\"Valid level two candidates: {valid_candidates}\")\n",
        "            return sorted([(c, self.wordProbs[c]) for c in valid_candidates], key=lambda tup: tup[1], reverse=True)\n",
        "\n",
        "        # Return the original word with probability 0 if no valid candidates found\n",
        "        return [(word, 0.0)]\n"
      ],
      "metadata": {
        "id": "G3R34nyqIbBh"
      },
      "execution_count": null,
      "outputs": []
    },
    {
      "cell_type": "code",
      "source": [
        "checker = SpellChecker('/content/urbandict-word-defs.csv')\n",
        "\n",
        "print(\"Enter your word:\", end=\" \")\n",
        "word = input().strip()\n",
        "suggestions = checker.check(word)\n",
        "\n",
        "# Print the suggestions with the highest probability first\n",
        "print(\"Suggestions:\")\n",
        "for suggestion, probability in suggestions:\n",
        "    print(f\"Word: {suggestion}, Probability: {probability}\")\n"
      ],
      "metadata": {
        "colab": {
          "base_uri": "https://localhost:8080/"
        },
        "id": "gDCecW_nIlEJ",
        "outputId": "4710f275-8f18-498f-f901-c2665b2e32c2"
      },
      "execution_count": null,
      "outputs": [
        {
          "output_type": "stream",
          "name": "stdout",
          "text": [
            "Enter your word: preadict\n",
            "Level one candidates for 'preadict': {'preadicit', 'preadictm', 'dreadict', 'prsadict', 'preadicut', 'preadiict', 'preajict', 'prerdict', 'preaddct', 'lpreadict', 'prdeadict', 'pcreadict', 'preawict', 'preavict', 'praedict', 'preadhct', 'preadiect', 'preadicrt', 'pceadict', 'pregdict', 'preadlict', 'prwadict', 'preadxict', 'preadkct', 'preadwict', 'preadictf', 'preadhict', 'preadic', 'premadict', 'ireadict', 'ipreadict', 'prjeadict', 'preaodict', 'rpreadict', 'preadicm', 'preadsict', 'jpreadict', 'preaidict', 'preabict', 'ppreadict', 'preadkict', 'prehadict', 'preadiqct', 'preadikct', 'preadiyct', 'preadit', 'preamdict', 'preadaict', 'preadqict', 'preadiwt', 'oreadict', 'pdeadict', 'prendict', 'preadoct', 'pqeadict', 'preadiet', 'preadicty', 'preladict', 'preadivt', 'preaydict', 'preadinct', 'preadect', 'preadxct', 'preadicst', 'preadice', 'preaict', 'dpreadict', 'plreadict', 'creadict', 'prmeadict', 'prweadict', 'preudict', 'preapdict', 'preadipt', 'pyreadict', 'prhadict', 'preaiict', 'prxadict', 'hpreadict', 'pleadict', 'hreadict', 'preadicl', 'proadict', 'preasict', 'wpreadict', 'pnreadict', 'preajdict', 'preadicta', 'bpreadict', 'preadicpt', 'pkreadict', 'preadisct', 'priadict', 'preaxict', 'preradict', 'preadictu', 'prejdict', 'prteadict', 'preacict', 'preadica', 'preaditc', 'prepadict', 'greadict', 'preadcit', 'preaedict', 'vreadict', 'prevdict', 'fpreadict', 'preadrct', 'pgeadict', 'prbeadict', 'prezadict', 'pretadict', 'pdreadict', 'preadjct', 'preakdict', 'preadijt', 'peradict', 'preadics', 'prevadict', 'prefadict', 'preadvict', 'prpeadict', 'pruadict', 'pmeadict', 'prreadict', 'preadictd', 'preddict', 'preadicwt', 'preadicts', 'preasdict', 'opreadict', 'prehdict', 'preaeict', 'pureadict', 'pzeadict', 'preydict', 'rpeadict', 'preadidt', 'pjreadict', 'pgreadict', 'preaudict', 'przeadict', 'preadilct', 'preagict', 'predadict', 'pueadict', 'preadicet', 'preadicj', 'preadicbt', 'preadicxt', 'preadicdt', 'preadictv', 'preadiqt', 'preadlct', 'pteadict', 'preadeict', 'preadijct', 'preadickt', 'wreadict', 'preadnct', 'vpreadict', 'pyeadict', 'preadyct', 'preadfict', 'preaqict', 'preadivct', 'preadicto', 'preafdict', 'prgeadict', 'prladict', 'pieadict', 'pireadict', 'preadicu', 'prebadict', 'nreadict', 'preadibct', 'preadpct', 'preadpict', 'preadiot', 'preaidct', 'preadictn', 'preanict', 'preadnict', 'preazict', 'breadict', 'preadact', 'preaadict', 'preedict', 'preapict', 'pbreadict', 'preadiczt', 'gpreadict', 'prkadict', 'prexdict', 'preadictj', 'prealdict', 'predaict', 'przadict', 'prceadict', 'preadicc', 'preeadict', 'preodict', 'preadicat', 'preadiut', 'prexadict', 'preaxdict', 'preadicp', 'preadicv', 'preadidct', 'preadizct', 'preadigct', 'preadick', 'npreadict', 'preadicn', 'preadibt', 'upreadict', 'preldict', 'presadict', 'preadiwct', 'preadcct', 'prmadict', 'preadsct', 'preakict', 'prneadict', 'prezdict', 'preuadict', 'preadzct', 'preadicw', 'pryeadict', 'pjeadict', 'prefdict', 'xpreadict', 'preadimct', 'prejadict', 'preadicte', 'prekdict', 'preadtict', 'paeadict', 'preatdict', 'preadtct', 'preahdict', 'preaditt', 'prqadict', 'spreadict', 'preaqdict', 'prfeadict', 'preahict', 'preadiact', 'sreadict', 'preadicd', 'qreadict', 'mreadict', 'preqdict', 'preadirct', 'prearict', 'preadicg', 'preadicvt', 'freadict', 'pfeadict', 'preadrict', 'zreadict', 'yreadict', 'preadimt', 'preadist', 'preawdict', 'precdict', 'zpreadict', 'preadict', 'qpreadict', 'preadicft', 'preadictr', 'preadictz', 'preadiht', 'prveadict', 'preauict', 'preadiyt', 'preadicz', 'preadifct', 'peeadict', 'poreadict', 'preadictx', 'rreadict', 'ptreadict', 'preadictt', 'preadyict', 'readict', 'xreadict', 'pxeadict', 'prseadict', 'preadiat', 'pareadict', 'preadictq', 'preadqct', 'precadict', 'preiadict', 'kreadict', 'prekadict', 'preadwct', 'preadicnt', 'preadixct', 'preaduict', 'preayict', 'preagdict', 'preadikt', 'pregadict', 'preadicgt', 'preadicti', 'preavdict', 'preadicmt', 'prewdict', 'preadirt', 'prenadict', 'preidict', 'preadicr', 'preadioct', 'preadicb', 'preadico', 'preadici', 'preadicf', 'pveadict', 'preadicq', 'preadmct', 'preadihct', 'preadoict', 'ureadict', 'prxeadict', 'preadicy', 'preadipct', 'preadicth', 'pweadict', 'preadicjt', 'preadicyt', 'prvadict', 'preadbct', 'prqeadict', 'praeadict', 'pzreadict', 'preadzict', 'preadilt', 'pfreadict', 'preadift', 'ypreadict', 'prbadict', 'pwreadict', 'preazdict', 'prjadict', 'preabdict', 'preadiclt', 'prgadict', 'prtadict', 'preadicx', 'prieadict', 'preadixt', 'peadict', 'preacdict', 'pereadict', 'preadicht', 'preadiuct', 'preadvct', 'prewadict', 'prfadict', 'preadgict', 'preadich', 'epreadict', 'prcadict', 'preadictg', 'prheadict', 'prealict', 'preamict', 'preadictk', 'preadictc', 'preadictw', 'areadict', 'prleadict', 'phreadict', 'pheadict', 'prdadict', 'preadfct', 'pxreadict', 'preadigt', 'tpreadict', 'preandict', 'psreadict', 'preoadict', 'preadicqt', 'jreadict', 'preardict', 'preadct', 'prnadict', 'preatict', 'preadbict', 'preadictb', 'prebdict', 'pqreadict', 'preadcict', 'preaduct', 'pbeadict', 'preaaict', 'preqadict', 'premdict', 'ppeadict', 'lreadict', 'preadjict', 'preadmict', 'apreadict', 'cpreadict', 'pmreadict', 'pradict', 'preadiit', 'treadict', 'ereadict', 'pryadict', 'kpreadict', 'mpreadict', 'preadicct', 'preadicot', 'preadictl', 'pvreadict', 'prueadict', 'poeadict', 'proeadict', 'preadgct', 'preyadict', 'pretdict', 'preaoict', 'pneadict', 'prpadict', 'prkeadict', 'predict', 'preadictp', 'prepdict', 'pseadict', 'preadizt', 'preaditct', 'preadint', 'preafict', 'presdict', 'pkeadict', 'praadict', 'prradict', 'preaddict'}\n",
            "Valid level one candidates: ['predict']\n",
            "Suggestions:\n",
            "Word: predict, Probability: 3.1863637535480886e-06\n"
          ]
        }
      ]
    }
  ]
}